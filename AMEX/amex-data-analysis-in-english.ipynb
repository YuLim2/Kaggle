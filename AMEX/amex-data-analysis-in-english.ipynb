{
 "cells": [
  {
   "cell_type": "markdown",
   "metadata": {
    "_cell_guid": "b1076dfc-b9ad-4769-8c92-a6c4dae69d19",
    "_uuid": "8f2839f25d086af736a60e9eeb907d3b93b6e0e5"
   },
   "source": [
    "# American Express - Default Prediction\n",
    "> Calculated by observing 18 months performance window after the latest credit card statement, <br>\n",
    "and if the customer does not pay due amount in 120 days after their latest statement date it is considered a default event."
   ]
  },
  {
   "cell_type": "markdown",
   "metadata": {},
   "source": [
    "It is based on the <a href=\"https://www.kaggle.com/code/ambrosm/amex-eda-which-makes-sense\" target=\"_blank\">EDA which makes sense ⭐️⭐️⭐️⭐️⭐️</a>."
   ]
  },
  {
   "cell_type": "markdown",
   "metadata": {},
   "source": [
    "## 1. Check Data\n",
    "\n",
    "D_* : Delinquency variables<br>\n",
    "S_* : Spend variables <br>\n",
    "P_* : Payment variables <br>\n",
    "B_* : Balance variables <br>\n",
    "R_* : Risk variables <br>"
   ]
  },
  {
   "cell_type": "markdown",
   "metadata": {},
   "source": [
    "### Labels\n",
    "For trainnig data, We can know there aren't duplicated customer_ID. <br>\n",
    "Because of imbalancing classes, It needs cross-validation."
   ]
  },
  {
   "cell_type": "code",
   "execution_count": null,
   "metadata": {
    "execution": {
     "iopub.execute_input": "2022-07-12T05:24:29.026709Z",
     "iopub.status.busy": "2022-07-12T05:24:29.026255Z",
     "iopub.status.idle": "2022-07-12T05:24:29.055760Z",
     "shell.execute_reply": "2022-07-12T05:24:29.054090Z",
     "shell.execute_reply.started": "2022-07-12T05:24:29.026622Z"
    }
   },
   "outputs": [],
   "source": [
    "import pandas as pd\n",
    "import numpy as np\n",
    "import pickle, gc\n",
    "from matplotlib import pyplot as plt"
   ]
  },
  {
   "cell_type": "code",
   "execution_count": null,
   "metadata": {
    "execution": {
     "iopub.execute_input": "2022-07-12T05:24:59.210465Z",
     "iopub.status.busy": "2022-07-12T05:24:59.210079Z",
     "iopub.status.idle": "2022-07-12T05:25:00.217271Z",
     "shell.execute_reply": "2022-07-12T05:25:00.216097Z",
     "shell.execute_reply.started": "2022-07-12T05:24:59.210432Z"
    }
   },
   "outputs": [],
   "source": [
    "train_label = pd.read_csv('../input/amex-default-prediction/train_labels.csv')\n",
    "train_label.head()"
   ]
  },
  {
   "cell_type": "code",
   "execution_count": null,
   "metadata": {},
   "outputs": [],
   "source": []
  }
 ],
 "metadata": {
  "kernelspec": {
   "display_name": "Python 3 (ipykernel)",
   "language": "python",
   "name": "python3"
  },
  "language_info": {
   "codemirror_mode": {
    "name": "ipython",
    "version": 3
   },
   "file_extension": ".py",
   "mimetype": "text/x-python",
   "name": "python",
   "nbconvert_exporter": "python",
   "pygments_lexer": "ipython3",
   "version": "3.8.5"
  }
 },
 "nbformat": 4,
 "nbformat_minor": 4
}
